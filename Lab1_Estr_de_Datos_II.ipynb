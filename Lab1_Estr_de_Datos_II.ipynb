{
  "nbformat": 4,
  "nbformat_minor": 0,
  "metadata": {
    "colab": {
      "provenance": []
    },
    "kernelspec": {
      "name": "python3",
      "display_name": "Python 3"
    },
    "language_info": {
      "name": "python"
    }
  },
  "cells": [
    {
      "cell_type": "code",
      "source": [
        "from graphviz import Digraph\n",
        "from collections import deque\n",
        "#Dibujar el arbol recursivamente\n",
        "def dibujar_arbol(node, dot=None):\n",
        "    #Se ejecuta la primera vez\n",
        "    if dot is None:\n",
        "        #Crea el arbol\n",
        "        dot = Digraph()\n",
        "        #Agrega el nodo raíz\n",
        "        dot.node(str(node),\n",
        "                 f'{node.fileName}, {node.imageType}, {node.size}')\n",
        "    #Agrega el subarbol izquierda\n",
        "    if node.leftSon is not None:\n",
        "      #Agrega el nodo hijo izquierdo\n",
        "      dot.node(str(node.leftSon),\n",
        "               f'{node.leftSon.fileName}, {node.leftSon.imageType}, {node.leftSon.size}')\n",
        "      #Agrega la arista con el nodo izquierdo\n",
        "      dot.edge(str(node), str(node.leftSon))\n",
        "      #Llamado recursivo subarbol izquierdo\n",
        "      dibujar_arbol(node.leftSon, dot)\n",
        "    #Agrega el subarbol derecho\n",
        "    if node.rightSon is not None:\n",
        "      #Agrega el nodo hijo derecho\n",
        "      dot.node(str(node.rightSon),\n",
        "               f'{node.rightSon.fileName}, {node.rightSon.imageType}, {node.rightSon.size}')\n",
        "      #Agrega la arista con el nodo derecho\n",
        "      dot.edge(str(node), str(node.rightSon))\n",
        "      #Llamado recursivo subarbol derecho\n",
        "      dibujar_arbol(node.rightSon, dot)\n",
        "\n",
        "    return dot\n",
        "\n",
        "#Guardar imagen del arbol\n",
        "def guardar_arbol(dot):\n",
        "  dot.render('arbol', format='png', cleanup=True)"
      ],
      "metadata": {
        "id": "NWxMaiDAvwBx"
      },
      "execution_count": 1,
      "outputs": []
    },
    {
      "cell_type": "code",
      "source": [
        "#Clase nodo\n",
        "class Node():\n",
        "  def __init__(self, fileName, imageType, sizeI ):\n",
        "    self.fileName = fileName\n",
        "    self.imageType = imageType\n",
        "    self.size = sizeI\n",
        "    self.leftSon = None\n",
        "    self.rightSon = None\n",
        "    self.equi = 0"
      ],
      "metadata": {
        "id": "umBxpI1Ov2FB"
      },
      "execution_count": 2,
      "outputs": []
    },
    {
      "cell_type": "code",
      "source": [
        "#Obtener el nivel del nodo\n",
        "def nivelV(Arbol, nodo, nivelA = -1):\n",
        "  if Arbol is None:\n",
        "    return None\n",
        "  #Busca el nivel en el subarbol izquierdo\n",
        "  if nodo.fileName < Arbol.fileName:\n",
        "    return nivelV(Arbol.leftSon, nodo, 1 + nivelA)\n",
        "  #Busca nivel subarbol derecho\n",
        "  elif nodo.fileName > Arbol.fileName:\n",
        "    return nivelV(Arbol.rightSon, nodo, 1 + nivelA)\n",
        "  else:\n",
        "    return 1 + nivelA"
      ],
      "metadata": {
        "id": "Sbl0iXsov52j"
      },
      "execution_count": 3,
      "outputs": []
    },
    {
      "cell_type": "code",
      "source": [
        "#Obtiene la profundidad del subarbol (Para el F.E.)\n",
        "def altura(nodo):\n",
        "    if nodo is None:\n",
        "        return 0\n",
        "    return 1 + max(altura(nodo.leftSon), altura(nodo.rightSon))"
      ],
      "metadata": {
        "id": "ytV7wZ4Jv807"
      },
      "execution_count": 4,
      "outputs": []
    },
    {
      "cell_type": "code",
      "source": [
        "#Rotación simple derecha\n",
        "def rot_right(node):\n",
        "    newNode = node.leftSon\n",
        "    node.leftSon = newNode.rightSon\n",
        "    newNode.rightSon = node\n",
        "    return newNode\n",
        "\n",
        "#Rotación simple izquierda\n",
        "def rot_left(node):\n",
        "    newNode = node.rightSon\n",
        "    node.rightSon = newNode.leftSon\n",
        "    newNode.leftSon = node\n",
        "    return newNode"
      ],
      "metadata": {
        "id": "wTgGZJquwA_k"
      },
      "execution_count": 5,
      "outputs": []
    },
    {
      "cell_type": "code",
      "source": [
        "#Insertar un nodo\n",
        "def insert(arbol, node):\n",
        "  #Si el subarbol está vacío se agrega el nodo\n",
        "  if arbol is None:\n",
        "    return node\n",
        "\n",
        "  #recursivamente se agrega a la izquierda o derecha\n",
        "  if node.fileName < arbol.fileName:\n",
        "    arbol.leftSon = insert(arbol.leftSon, node)\n",
        "  elif node.fileName > arbol.fileName :\n",
        "    arbol.rightSon = insert(arbol.rightSon, node)\n",
        "  else:\n",
        "    #Si encuentra no hace nada\n",
        "    print(\"Already added!\")\n",
        "    return arbol\n",
        "\n",
        "  arbol.equi = altura(arbol.leftSon) - altura(arbol.rightSon)\n",
        "\n",
        "  # +2 y el nodo menor a hijo izquirdo\n",
        "  if arbol.equi > 1 and node.fileName < arbol.leftSon.fileName:\n",
        "    return rot_right(arbol)\n",
        "  # -2 y el nodo mayor al hijo de la dercha\n",
        "  elif arbol.equi < -1 and node.fileName > arbol.rightSon.fileName:\n",
        "    return rot_left(arbol)\n",
        "  # +2 y nodo es mayor que el hijo de la izquierda\n",
        "  elif arbol.equi > 1 and node.fileName > arbol.leftSon.fileName:\n",
        "    #Rotación doble izquierda-derecha\n",
        "    arbol.leftSon = rot_left(arbol.leftSon)\n",
        "    return rot_right(arbol)\n",
        "  # -2 y nodo es menor que el hijo de la derecha\n",
        "  elif arbol.equi < -1 and node.fileName < arbol.rightSon.fileName:\n",
        "    #Rotación doble izquierda-derecha\n",
        "    arbol.rightSon = rot_right(arbol.rightSon)\n",
        "    return rot_left(arbol)\n",
        "\n",
        "  return arbol"
      ],
      "metadata": {
        "id": "l2xkD3QXwKB_"
      },
      "execution_count": 6,
      "outputs": []
    },
    {
      "cell_type": "code",
      "source": [
        "#Hallar el menor valor de un subarbol\n",
        "def minValue(Arbol):\n",
        "  min = Arbol\n",
        "  #Irse a la izquierda las veces que se puedan\n",
        "  while min.leftSon is not None:\n",
        "    min = min.leftSon\n",
        "  return min"
      ],
      "metadata": {
        "id": "4ID0to5awPYV"
      },
      "execution_count": 7,
      "outputs": []
    },
    {
      "cell_type": "code",
      "source": [
        "#Obtener factor equilibrio\n",
        "def equili(Arbol):\n",
        "  return altura(Arbol.leftSon) - altura(Arbol.rightSon)"
      ],
      "metadata": {
        "id": "k9WggD_owUD2"
      },
      "execution_count": 8,
      "outputs": []
    },
    {
      "cell_type": "code",
      "source": [
        "#Eliminar un nodo recursivo\n",
        "def delete(Arbol, filename):\n",
        "  #Si el abrol es nulo no hace nada\n",
        "  if Arbol is None:\n",
        "    return Arbol\n",
        "  #elimina en el subarbol izquierdo si es menor\n",
        "  if filename < Arbol.fileName:\n",
        "    Arbol.leftSon = delete(Arbol.leftSon, filename)\n",
        "  #elimina en el subarbol izquierdo si es mayor\n",
        "  elif filename > Arbol.fileName:\n",
        "    Arbol.rightSon = delete(Arbol.rightSon, filename)\n",
        "  else:\n",
        "    #Si el nodo tiene a lo más un hijo, se eleva ese hijo\n",
        "    if Arbol.leftSon is None:\n",
        "      temp = Arbol.rightSon\n",
        "      Arbol = None\n",
        "      return temp\n",
        "    elif Arbol.rightSon is None:\n",
        "      temp = Arbol.leftSon\n",
        "      Arbol = None\n",
        "      return temp\n",
        "\n",
        "    #Si el nodo tiene dos hijos\n",
        "    #Buscar el mínimo derecho\n",
        "    temp = minValue(Arbol.rightSon)\n",
        "    #Guardas en el nodo a eliminar los valores del nodo mínimo\n",
        "    Arbol.fileName = temp.fileName\n",
        "    Arbol.imageType = temp.imageType\n",
        "    Arbol.size = temp.size\n",
        "\n",
        "    #Borrar el mínimo del subarbol derecho\n",
        "    Arbol.rightSon = delete(Arbol.rightSon, temp.fileName)\n",
        "\n",
        "  #if Arbol is None:\n",
        "    #return Arbol\n",
        "  #Se hallan las profundidades de los subarboles\n",
        "  l = altura(Arbol.leftSon)\n",
        "  d = altura(Arbol.rightSon)\n",
        "  #Se calcula el F.E\n",
        "  Arbol.equi = l-d\n",
        "  # +2 e hijo izquierdo >=0\n",
        "  if Arbol.equi > 1 and equili(Arbol.leftSon) >= 0:\n",
        "    return rot_right(Arbol)\n",
        "  #-2 e hijo derecho <=0\n",
        "  elif Arbol.equi < -1 and equili(Arbol.rightSon) <= 0:\n",
        "    return rot_left(Arbol)\n",
        "  #+2 e hijo izquierdo -1\n",
        "  elif Arbol.equi > 1 and equili(Arbol.leftSon) < 0:\n",
        "    #rotación doble izq-der\n",
        "    Arbol.leftSon = rot_left(Arbol.leftSon)\n",
        "    return rot_right(Arbol)\n",
        "  #-2 e hijo derecho +1\n",
        "  elif Arbol.equi < -1 and equili(Arbol.rightSon) > 0:\n",
        "    #rotación doble der-izq\n",
        "    Arbol.rightSon = rot_right(Arbol.rightSon)\n",
        "    return rot_left(Arbol)\n",
        "\n",
        "  return Arbol"
      ],
      "metadata": {
        "id": "IXoRtbF3wXhi"
      },
      "execution_count": 9,
      "outputs": []
    },
    {
      "cell_type": "code",
      "source": [
        "#Hallar el padre de un nodo\n",
        "def padreN(Arbol, node, padre = None):\n",
        "  if Arbol is None:\n",
        "    return None\n",
        "  #Se busca en los subarboles y se pasa pasa como parámetro el nodo\n",
        "  if node.fileName < Arbol.fileName:\n",
        "    return padreN(Arbol.leftSon, node, Arbol)\n",
        "  elif node.fileName > Arbol.fileName:\n",
        "    return padreN(Arbol.rightSon, node, Arbol)\n",
        "  else:\n",
        "    #si es igual, devuelve el nodo padre\n",
        "    return padre"
      ],
      "metadata": {
        "id": "gkv55u4GwcU9"
      },
      "execution_count": 10,
      "outputs": []
    },
    {
      "cell_type": "code",
      "source": [
        "#Buscar abuelo\n",
        "#raiz nodo actula y node nodo a buscar\n",
        "def encontrar_abuelo(raiz, node, padre=None, abuelo=None):\n",
        "    if raiz is None:\n",
        "        return None\n",
        "    #Si se encuentra\n",
        "    if raiz.fileName == node.fileName:\n",
        "        #Si tiene abuelo\n",
        "        if abuelo:\n",
        "            return abuelo\n",
        "        else:\n",
        "            print('No tiene abuelo')\n",
        "            return\n",
        "    #Buscar el abuelo en los subarboles\n",
        "    #se pasa como padre el nodo actual y como abuelo el padre del actual\n",
        "    abuelo_izquierdo = encontrar_abuelo(raiz.leftSon, node, raiz, padre)\n",
        "    abuelo_derecho = encontrar_abuelo(raiz.rightSon, node, raiz, padre)\n",
        "\n",
        "\n",
        "    if abuelo_izquierdo:\n",
        "        return abuelo_izquierdo\n",
        "    elif abuelo_derecho:\n",
        "        return abuelo_derecho\n",
        "    else:\n",
        "        return None"
      ],
      "metadata": {
        "id": "idsjk7I8wgO-"
      },
      "execution_count": 11,
      "outputs": []
    },
    {
      "cell_type": "code",
      "source": [
        "#Buscar el tío\n",
        "def tio(Arbol, node):\n",
        "  #Buscar el abuelo\n",
        "  ab = encontrar_abuelo(Arbol, node)\n",
        "  #si encuentra el abuelo\n",
        "  if ab:\n",
        "    #\n",
        "    if node == ab.leftSon.leftSon or node == ab.leftSon.rightSon:\n",
        "      return ab.rightSon\n",
        "    else:\n",
        "      return ab.leftSon\n",
        "  else:\n",
        "    return"
      ],
      "metadata": {
        "id": "PYqw053PwkOO"
      },
      "execution_count": 12,
      "outputs": []
    },
    {
      "cell_type": "code",
      "source": [
        "#Busqueda\n",
        "def search(Arbol, filename):\n",
        "  if Arbol is None:\n",
        "    return None\n",
        "  #Si es menor lo busca en el subarbol izq\n",
        "  if filename < Arbol.fileName:\n",
        "    return search(Arbol.leftSon, filename)\n",
        "  #Si es mayor lo busca en el subarbol der\n",
        "  elif filename > Arbol.fileName:\n",
        "    return search(Arbol.rightSon, filename)\n",
        "  #Si es igual lo retorna\n",
        "  else:\n",
        "    return Arbol"
      ],
      "metadata": {
        "id": "qlbtrk1Pwnj7"
      },
      "execution_count": 13,
      "outputs": []
    },
    {
      "cell_type": "code",
      "source": [
        "#Busqueda con condiciones\n",
        "def search_p(Arbol, typeI, mini, maxi):\n",
        "  datas = []\n",
        "  if Arbol is None:\n",
        "    return datas\n",
        "  #Si cumple la condición se agrega a la lista\n",
        "  if Arbol.imageType == typeI and mini <= Arbol.size <= maxi:\n",
        "    datas.append(Arbol)\n",
        "  #Recursivamente se retorna la lista actual con las listas de los subarboles\n",
        "  return datas + search_p(Arbol.leftSon, typeI, mini, maxi) + search_p(Arbol.rightSon, typeI, mini, maxi)"
      ],
      "metadata": {
        "id": "owZmdV9zwwcj"
      },
      "execution_count": 14,
      "outputs": []
    },
    {
      "cell_type": "code",
      "source": [
        "#Imprimir por nivel\n",
        "def print_level(Arbol, cola = None, sw = 1):\n",
        "    if Arbol is None:\n",
        "      return\n",
        "    #Solo se ejecute en el primer llamado\n",
        "    if sw == 1:\n",
        "      colaN = deque()\n",
        "      colaN.append(Arbol)\n",
        "      print_level(Arbol, colaN, 0)\n",
        "\n",
        "    if not cola:\n",
        "        return\n",
        "    #Cuando hay algo en la cola se imprime\n",
        "    nodo_actual = cola.popleft()\n",
        "    print(nodo_actual.fileName)\n",
        "    #Se aregando los hijos a la cola si los tiene\n",
        "    if nodo_actual.leftSon:\n",
        "        cola.append(nodo_actual.leftSon)\n",
        "    if nodo_actual.rightSon:\n",
        "        cola.append(nodo_actual.rightSon)\n",
        "    #llamado recursivo\n",
        "    print_level(Arbol, cola, 0)"
      ],
      "metadata": {
        "id": "MKmPOgliw0U2"
      },
      "execution_count": 15,
      "outputs": []
    },
    {
      "cell_type": "code",
      "source": [
        "#Nodo raíz\n",
        "Arbol = None\n",
        "\n",
        "#Se crea un nodo nodo\n",
        "node1 = Node('bike_001.bmp', 'bike', 921.65)\n",
        "#Se inserta en el arbol\n",
        "Arbol = insert(Arbol, node1)\n",
        "#Se dibuja\n",
        "a = dibujar_arbol(Arbol)\n",
        "dibujar_arbol(Arbol)"
      ],
      "metadata": {
        "colab": {
          "base_uri": "https://localhost:8080/",
          "height": 80
        },
        "id": "7TzMs9vfw6kk",
        "outputId": "0b48a737-8e2b-40c3-b5de-0442158d237f"
      },
      "execution_count": 16,
      "outputs": [
        {
          "output_type": "execute_result",
          "data": {
            "image/svg+xml": "<?xml version=\"1.0\" encoding=\"UTF-8\" standalone=\"no\"?>\n<!DOCTYPE svg PUBLIC \"-//W3C//DTD SVG 1.1//EN\"\n \"http://www.w3.org/Graphics/SVG/1.1/DTD/svg11.dtd\">\n<!-- Generated by graphviz version 2.43.0 (0)\n -->\n<!-- Title: %3 Pages: 1 -->\n<svg width=\"230pt\" height=\"44pt\"\n viewBox=\"0.00 0.00 230.28 44.00\" xmlns=\"http://www.w3.org/2000/svg\" xmlns:xlink=\"http://www.w3.org/1999/xlink\">\n<g id=\"graph0\" class=\"graph\" transform=\"scale(1 1) rotate(0) translate(4 40)\">\n<title>%3</title>\n<polygon fill=\"white\" stroke=\"transparent\" points=\"-4,4 -4,-40 226.28,-40 226.28,4 -4,4\"/>\n<!-- __main__.Node object at 0x7cbb28325420 -->\n<g id=\"node1\" class=\"node\">\n<title>__main__.Node object at 0x7cbb28325420</title>\n<ellipse fill=\"none\" stroke=\"black\" cx=\"111.14\" cy=\"-18\" rx=\"111.28\" ry=\"18\"/>\n<text text-anchor=\"middle\" x=\"111.14\" y=\"-14.3\" font-family=\"Times,serif\" font-size=\"14.00\">bike_001.bmp, bike, 921.65</text>\n</g>\n</g>\n</svg>\n",
            "text/plain": [
              "<graphviz.graphs.Digraph at 0x7cbb283253f0>"
            ]
          },
          "metadata": {},
          "execution_count": 16
        }
      ]
    },
    {
      "cell_type": "code",
      "source": [
        "guardar_arbol(a)"
      ],
      "metadata": {
        "id": "Mdkb4N71ydG2"
      },
      "execution_count": 17,
      "outputs": []
    },
    {
      "cell_type": "code",
      "source": [
        "#Se inserta otro nodo\n",
        "node = Node('bike_002.bmp', 'bike', 921.65)\n",
        "Arbol = insert(Arbol, node)\n",
        "dibujar_arbol(Arbol)"
      ],
      "metadata": {
        "colab": {
          "base_uri": "https://localhost:8080/",
          "height": 176
        },
        "id": "c0y5T1Arw-Me",
        "outputId": "5ce8b948-3592-4735-ee1b-850f005e6992"
      },
      "execution_count": 18,
      "outputs": [
        {
          "output_type": "execute_result",
          "data": {
            "image/svg+xml": "<?xml version=\"1.0\" encoding=\"UTF-8\" standalone=\"no\"?>\n<!DOCTYPE svg PUBLIC \"-//W3C//DTD SVG 1.1//EN\"\n \"http://www.w3.org/Graphics/SVG/1.1/DTD/svg11.dtd\">\n<!-- Generated by graphviz version 2.43.0 (0)\n -->\n<!-- Title: %3 Pages: 1 -->\n<svg width=\"230pt\" height=\"116pt\"\n viewBox=\"0.00 0.00 230.28 116.00\" xmlns=\"http://www.w3.org/2000/svg\" xmlns:xlink=\"http://www.w3.org/1999/xlink\">\n<g id=\"graph0\" class=\"graph\" transform=\"scale(1 1) rotate(0) translate(4 112)\">\n<title>%3</title>\n<polygon fill=\"white\" stroke=\"transparent\" points=\"-4,4 -4,-112 226.28,-112 226.28,4 -4,4\"/>\n<!-- __main__.Node object at 0x7cbb28325420 -->\n<g id=\"node1\" class=\"node\">\n<title>__main__.Node object at 0x7cbb28325420</title>\n<ellipse fill=\"none\" stroke=\"black\" cx=\"111.14\" cy=\"-90\" rx=\"111.28\" ry=\"18\"/>\n<text text-anchor=\"middle\" x=\"111.14\" y=\"-86.3\" font-family=\"Times,serif\" font-size=\"14.00\">bike_001.bmp, bike, 921.65</text>\n</g>\n<!-- __main__.Node object at 0x7cbb28327d60 -->\n<g id=\"node2\" class=\"node\">\n<title>__main__.Node object at 0x7cbb28327d60</title>\n<ellipse fill=\"none\" stroke=\"black\" cx=\"111.14\" cy=\"-18\" rx=\"111.28\" ry=\"18\"/>\n<text text-anchor=\"middle\" x=\"111.14\" y=\"-14.3\" font-family=\"Times,serif\" font-size=\"14.00\">bike_002.bmp, bike, 921.65</text>\n</g>\n<!-- __main__.Node object at 0x7cbb28325420&#45;&gt;__main__.Node object at 0x7cbb28327d60 -->\n<g id=\"edge1\" class=\"edge\">\n<title>__main__.Node object at 0x7cbb28325420&#45;&gt;__main__.Node object at 0x7cbb28327d60</title>\n<path fill=\"none\" stroke=\"black\" d=\"M111.14,-71.7C111.14,-63.98 111.14,-54.71 111.14,-46.11\"/>\n<polygon fill=\"black\" stroke=\"black\" points=\"114.64,-46.1 111.14,-36.1 107.64,-46.1 114.64,-46.1\"/>\n</g>\n</g>\n</svg>\n",
            "text/plain": [
              "<graphviz.graphs.Digraph at 0x7cbb283268c0>"
            ]
          },
          "metadata": {},
          "execution_count": 18
        }
      ]
    },
    {
      "cell_type": "code",
      "source": [
        "node = Node('carsgraz_001.bmp', 'cars', 921.65)\n",
        "Arbol = insert(Arbol, node)\n",
        "dibujar_arbol(Arbol)"
      ],
      "metadata": {
        "colab": {
          "base_uri": "https://localhost:8080/",
          "height": 176
        },
        "id": "vmESyMTxxCdr",
        "outputId": "cd4b9934-e194-4044-c4fa-d0cae6c7145a"
      },
      "execution_count": 19,
      "outputs": [
        {
          "output_type": "execute_result",
          "data": {
            "image/svg+xml": "<?xml version=\"1.0\" encoding=\"UTF-8\" standalone=\"no\"?>\n<!DOCTYPE svg PUBLIC \"-//W3C//DTD SVG 1.1//EN\"\n \"http://www.w3.org/Graphics/SVG/1.1/DTD/svg11.dtd\">\n<!-- Generated by graphviz version 2.43.0 (0)\n -->\n<!-- Title: %3 Pages: 1 -->\n<svg width=\"496pt\" height=\"116pt\"\n viewBox=\"0.00 0.00 496.28 116.00\" xmlns=\"http://www.w3.org/2000/svg\" xmlns:xlink=\"http://www.w3.org/1999/xlink\">\n<g id=\"graph0\" class=\"graph\" transform=\"scale(1 1) rotate(0) translate(4 112)\">\n<title>%3</title>\n<polygon fill=\"white\" stroke=\"transparent\" points=\"-4,4 -4,-112 492.28,-112 492.28,4 -4,4\"/>\n<!-- __main__.Node object at 0x7cbb28327d60 -->\n<g id=\"node1\" class=\"node\">\n<title>__main__.Node object at 0x7cbb28327d60</title>\n<ellipse fill=\"none\" stroke=\"black\" cx=\"237.14\" cy=\"-90\" rx=\"111.28\" ry=\"18\"/>\n<text text-anchor=\"middle\" x=\"237.14\" y=\"-86.3\" font-family=\"Times,serif\" font-size=\"14.00\">bike_002.bmp, bike, 921.65</text>\n</g>\n<!-- __main__.Node object at 0x7cbb28325420 -->\n<g id=\"node2\" class=\"node\">\n<title>__main__.Node object at 0x7cbb28325420</title>\n<ellipse fill=\"none\" stroke=\"black\" cx=\"111.14\" cy=\"-18\" rx=\"111.28\" ry=\"18\"/>\n<text text-anchor=\"middle\" x=\"111.14\" y=\"-14.3\" font-family=\"Times,serif\" font-size=\"14.00\">bike_001.bmp, bike, 921.65</text>\n</g>\n<!-- __main__.Node object at 0x7cbb28327d60&#45;&gt;__main__.Node object at 0x7cbb28325420 -->\n<g id=\"edge1\" class=\"edge\">\n<title>__main__.Node object at 0x7cbb28327d60&#45;&gt;__main__.Node object at 0x7cbb28325420</title>\n<path fill=\"none\" stroke=\"black\" d=\"M207.6,-72.59C190.35,-63 168.38,-50.8 149.77,-40.46\"/>\n<polygon fill=\"black\" stroke=\"black\" points=\"151.37,-37.35 140.93,-35.55 147.97,-43.47 151.37,-37.35\"/>\n</g>\n<!-- __main__.Node object at 0x7cbb28326b90 -->\n<g id=\"node3\" class=\"node\">\n<title>__main__.Node object at 0x7cbb28326b90</title>\n<ellipse fill=\"none\" stroke=\"black\" cx=\"364.14\" cy=\"-18\" rx=\"124.28\" ry=\"18\"/>\n<text text-anchor=\"middle\" x=\"364.14\" y=\"-14.3\" font-family=\"Times,serif\" font-size=\"14.00\">carsgraz_001.bmp, cars, 921.65</text>\n</g>\n<!-- __main__.Node object at 0x7cbb28327d60&#45;&gt;__main__.Node object at 0x7cbb28326b90 -->\n<g id=\"edge2\" class=\"edge\">\n<title>__main__.Node object at 0x7cbb28327d60&#45;&gt;__main__.Node object at 0x7cbb28326b90</title>\n<path fill=\"none\" stroke=\"black\" d=\"M266.92,-72.59C284.31,-63 306.45,-50.8 325.21,-40.46\"/>\n<polygon fill=\"black\" stroke=\"black\" points=\"327.04,-43.44 334.11,-35.55 323.66,-37.31 327.04,-43.44\"/>\n</g>\n</g>\n</svg>\n",
            "text/plain": [
              "<graphviz.graphs.Digraph at 0x7cbb283279d0>"
            ]
          },
          "metadata": {},
          "execution_count": 19
        }
      ]
    },
    {
      "cell_type": "code",
      "source": [
        "node = Node('0001.png', 'flowers', 48.55)\n",
        "Arbol = insert(Arbol, node)\n",
        "dibujar_arbol(Arbol)"
      ],
      "metadata": {
        "colab": {
          "base_uri": "https://localhost:8080/",
          "height": 272
        },
        "id": "OrHqnrdnxFwT",
        "outputId": "77580079-0b1a-4e82-919f-8e836d814a1e"
      },
      "execution_count": 20,
      "outputs": [
        {
          "output_type": "execute_result",
          "data": {
            "image/svg+xml": "<?xml version=\"1.0\" encoding=\"UTF-8\" standalone=\"no\"?>\n<!DOCTYPE svg PUBLIC \"-//W3C//DTD SVG 1.1//EN\"\n \"http://www.w3.org/Graphics/SVG/1.1/DTD/svg11.dtd\">\n<!-- Generated by graphviz version 2.43.0 (0)\n -->\n<!-- Title: %3 Pages: 1 -->\n<svg width=\"496pt\" height=\"188pt\"\n viewBox=\"0.00 0.00 496.28 188.00\" xmlns=\"http://www.w3.org/2000/svg\" xmlns:xlink=\"http://www.w3.org/1999/xlink\">\n<g id=\"graph0\" class=\"graph\" transform=\"scale(1 1) rotate(0) translate(4 184)\">\n<title>%3</title>\n<polygon fill=\"white\" stroke=\"transparent\" points=\"-4,4 -4,-184 492.28,-184 492.28,4 -4,4\"/>\n<!-- __main__.Node object at 0x7cbb28327d60 -->\n<g id=\"node1\" class=\"node\">\n<title>__main__.Node object at 0x7cbb28327d60</title>\n<ellipse fill=\"none\" stroke=\"black\" cx=\"237.14\" cy=\"-162\" rx=\"111.28\" ry=\"18\"/>\n<text text-anchor=\"middle\" x=\"237.14\" y=\"-158.3\" font-family=\"Times,serif\" font-size=\"14.00\">bike_002.bmp, bike, 921.65</text>\n</g>\n<!-- __main__.Node object at 0x7cbb28325420 -->\n<g id=\"node2\" class=\"node\">\n<title>__main__.Node object at 0x7cbb28325420</title>\n<ellipse fill=\"none\" stroke=\"black\" cx=\"111.14\" cy=\"-90\" rx=\"111.28\" ry=\"18\"/>\n<text text-anchor=\"middle\" x=\"111.14\" y=\"-86.3\" font-family=\"Times,serif\" font-size=\"14.00\">bike_001.bmp, bike, 921.65</text>\n</g>\n<!-- __main__.Node object at 0x7cbb28327d60&#45;&gt;__main__.Node object at 0x7cbb28325420 -->\n<g id=\"edge1\" class=\"edge\">\n<title>__main__.Node object at 0x7cbb28327d60&#45;&gt;__main__.Node object at 0x7cbb28325420</title>\n<path fill=\"none\" stroke=\"black\" d=\"M207.6,-144.59C190.35,-135 168.38,-122.8 149.77,-112.46\"/>\n<polygon fill=\"black\" stroke=\"black\" points=\"151.37,-109.35 140.93,-107.55 147.97,-115.47 151.37,-109.35\"/>\n</g>\n<!-- __main__.Node object at 0x7cbb28326b90 -->\n<g id=\"node4\" class=\"node\">\n<title>__main__.Node object at 0x7cbb28326b90</title>\n<ellipse fill=\"none\" stroke=\"black\" cx=\"364.14\" cy=\"-90\" rx=\"124.28\" ry=\"18\"/>\n<text text-anchor=\"middle\" x=\"364.14\" y=\"-86.3\" font-family=\"Times,serif\" font-size=\"14.00\">carsgraz_001.bmp, cars, 921.65</text>\n</g>\n<!-- __main__.Node object at 0x7cbb28327d60&#45;&gt;__main__.Node object at 0x7cbb28326b90 -->\n<g id=\"edge3\" class=\"edge\">\n<title>__main__.Node object at 0x7cbb28327d60&#45;&gt;__main__.Node object at 0x7cbb28326b90</title>\n<path fill=\"none\" stroke=\"black\" d=\"M266.92,-144.59C284.31,-135 306.45,-122.8 325.21,-112.46\"/>\n<polygon fill=\"black\" stroke=\"black\" points=\"327.04,-115.44 334.11,-107.55 323.66,-109.31 327.04,-115.44\"/>\n</g>\n<!-- __main__.Node object at 0x7cbb28327340 -->\n<g id=\"node3\" class=\"node\">\n<title>__main__.Node object at 0x7cbb28327340</title>\n<ellipse fill=\"none\" stroke=\"black\" cx=\"111.14\" cy=\"-18\" rx=\"100.18\" ry=\"18\"/>\n<text text-anchor=\"middle\" x=\"111.14\" y=\"-14.3\" font-family=\"Times,serif\" font-size=\"14.00\">0001.png, flowers, 48.55</text>\n</g>\n<!-- __main__.Node object at 0x7cbb28325420&#45;&gt;__main__.Node object at 0x7cbb28327340 -->\n<g id=\"edge2\" class=\"edge\">\n<title>__main__.Node object at 0x7cbb28325420&#45;&gt;__main__.Node object at 0x7cbb28327340</title>\n<path fill=\"none\" stroke=\"black\" d=\"M111.14,-71.7C111.14,-63.98 111.14,-54.71 111.14,-46.11\"/>\n<polygon fill=\"black\" stroke=\"black\" points=\"114.64,-46.1 111.14,-36.1 107.64,-46.1 114.64,-46.1\"/>\n</g>\n</g>\n</svg>\n",
            "text/plain": [
              "<graphviz.graphs.Digraph at 0x7cbb28327eb0>"
            ]
          },
          "metadata": {},
          "execution_count": 20
        }
      ]
    },
    {
      "cell_type": "code",
      "source": [
        "node = Node('rider-110.jpg', 'human', 7.05)\n",
        "Arbol = insert(Arbol, node)\n",
        "dibujar_arbol(Arbol)"
      ],
      "metadata": {
        "colab": {
          "base_uri": "https://localhost:8080/",
          "height": 272
        },
        "id": "MGi6b-E6xIeG",
        "outputId": "c99b7b04-5c6e-4c4b-cadc-35b6dff2229f"
      },
      "execution_count": 21,
      "outputs": [
        {
          "output_type": "execute_result",
          "data": {
            "image/svg+xml": "<?xml version=\"1.0\" encoding=\"UTF-8\" standalone=\"no\"?>\n<!DOCTYPE svg PUBLIC \"-//W3C//DTD SVG 1.1//EN\"\n \"http://www.w3.org/Graphics/SVG/1.1/DTD/svg11.dtd\">\n<!-- Generated by graphviz version 2.43.0 (0)\n -->\n<!-- Title: %3 Pages: 1 -->\n<svg width=\"496pt\" height=\"188pt\"\n viewBox=\"0.00 0.00 496.28 188.00\" xmlns=\"http://www.w3.org/2000/svg\" xmlns:xlink=\"http://www.w3.org/1999/xlink\">\n<g id=\"graph0\" class=\"graph\" transform=\"scale(1 1) rotate(0) translate(4 184)\">\n<title>%3</title>\n<polygon fill=\"white\" stroke=\"transparent\" points=\"-4,4 -4,-184 492.28,-184 492.28,4 -4,4\"/>\n<!-- __main__.Node object at 0x7cbb28327d60 -->\n<g id=\"node1\" class=\"node\">\n<title>__main__.Node object at 0x7cbb28327d60</title>\n<ellipse fill=\"none\" stroke=\"black\" cx=\"237.14\" cy=\"-162\" rx=\"111.28\" ry=\"18\"/>\n<text text-anchor=\"middle\" x=\"237.14\" y=\"-158.3\" font-family=\"Times,serif\" font-size=\"14.00\">bike_002.bmp, bike, 921.65</text>\n</g>\n<!-- __main__.Node object at 0x7cbb28325420 -->\n<g id=\"node2\" class=\"node\">\n<title>__main__.Node object at 0x7cbb28325420</title>\n<ellipse fill=\"none\" stroke=\"black\" cx=\"111.14\" cy=\"-90\" rx=\"111.28\" ry=\"18\"/>\n<text text-anchor=\"middle\" x=\"111.14\" y=\"-86.3\" font-family=\"Times,serif\" font-size=\"14.00\">bike_001.bmp, bike, 921.65</text>\n</g>\n<!-- __main__.Node object at 0x7cbb28327d60&#45;&gt;__main__.Node object at 0x7cbb28325420 -->\n<g id=\"edge1\" class=\"edge\">\n<title>__main__.Node object at 0x7cbb28327d60&#45;&gt;__main__.Node object at 0x7cbb28325420</title>\n<path fill=\"none\" stroke=\"black\" d=\"M207.6,-144.59C190.35,-135 168.38,-122.8 149.77,-112.46\"/>\n<polygon fill=\"black\" stroke=\"black\" points=\"151.37,-109.35 140.93,-107.55 147.97,-115.47 151.37,-109.35\"/>\n</g>\n<!-- __main__.Node object at 0x7cbb28326b90 -->\n<g id=\"node4\" class=\"node\">\n<title>__main__.Node object at 0x7cbb28326b90</title>\n<ellipse fill=\"none\" stroke=\"black\" cx=\"364.14\" cy=\"-90\" rx=\"124.28\" ry=\"18\"/>\n<text text-anchor=\"middle\" x=\"364.14\" y=\"-86.3\" font-family=\"Times,serif\" font-size=\"14.00\">carsgraz_001.bmp, cars, 921.65</text>\n</g>\n<!-- __main__.Node object at 0x7cbb28327d60&#45;&gt;__main__.Node object at 0x7cbb28326b90 -->\n<g id=\"edge3\" class=\"edge\">\n<title>__main__.Node object at 0x7cbb28327d60&#45;&gt;__main__.Node object at 0x7cbb28326b90</title>\n<path fill=\"none\" stroke=\"black\" d=\"M266.92,-144.59C284.31,-135 306.45,-122.8 325.21,-112.46\"/>\n<polygon fill=\"black\" stroke=\"black\" points=\"327.04,-115.44 334.11,-107.55 323.66,-109.31 327.04,-115.44\"/>\n</g>\n<!-- __main__.Node object at 0x7cbb28327340 -->\n<g id=\"node3\" class=\"node\">\n<title>__main__.Node object at 0x7cbb28327340</title>\n<ellipse fill=\"none\" stroke=\"black\" cx=\"111.14\" cy=\"-18\" rx=\"100.18\" ry=\"18\"/>\n<text text-anchor=\"middle\" x=\"111.14\" y=\"-14.3\" font-family=\"Times,serif\" font-size=\"14.00\">0001.png, flowers, 48.55</text>\n</g>\n<!-- __main__.Node object at 0x7cbb28325420&#45;&gt;__main__.Node object at 0x7cbb28327340 -->\n<g id=\"edge2\" class=\"edge\">\n<title>__main__.Node object at 0x7cbb28325420&#45;&gt;__main__.Node object at 0x7cbb28327340</title>\n<path fill=\"none\" stroke=\"black\" d=\"M111.14,-71.7C111.14,-63.98 111.14,-54.71 111.14,-46.11\"/>\n<polygon fill=\"black\" stroke=\"black\" points=\"114.64,-46.1 111.14,-36.1 107.64,-46.1 114.64,-46.1\"/>\n</g>\n<!-- __main__.Node object at 0x7cbb28327550 -->\n<g id=\"node5\" class=\"node\">\n<title>__main__.Node object at 0x7cbb28327550</title>\n<ellipse fill=\"none\" stroke=\"black\" cx=\"364.14\" cy=\"-18\" rx=\"106.68\" ry=\"18\"/>\n<text text-anchor=\"middle\" x=\"364.14\" y=\"-14.3\" font-family=\"Times,serif\" font-size=\"14.00\">rider&#45;110.jpg, human, 7.05</text>\n</g>\n<!-- __main__.Node object at 0x7cbb28326b90&#45;&gt;__main__.Node object at 0x7cbb28327550 -->\n<g id=\"edge4\" class=\"edge\">\n<title>__main__.Node object at 0x7cbb28326b90&#45;&gt;__main__.Node object at 0x7cbb28327550</title>\n<path fill=\"none\" stroke=\"black\" d=\"M364.14,-71.7C364.14,-63.98 364.14,-54.71 364.14,-46.11\"/>\n<polygon fill=\"black\" stroke=\"black\" points=\"367.64,-46.1 364.14,-36.1 360.64,-46.1 367.64,-46.1\"/>\n</g>\n</g>\n</svg>\n",
            "text/plain": [
              "<graphviz.graphs.Digraph at 0x7cbb28326080>"
            ]
          },
          "metadata": {},
          "execution_count": 21
        }
      ]
    },
    {
      "cell_type": "code",
      "source": [
        "node = Node('rider-120.jpg', 'human', 27.4)\n",
        "Arbol = insert(Arbol, node)\n",
        "dibujar_arbol(Arbol)"
      ],
      "metadata": {
        "colab": {
          "base_uri": "https://localhost:8080/",
          "height": 272
        },
        "id": "jxHzfhzoxLk4",
        "outputId": "b0aa8788-1197-4023-c37a-d611dae71864"
      },
      "execution_count": 22,
      "outputs": [
        {
          "output_type": "execute_result",
          "data": {
            "image/svg+xml": "<?xml version=\"1.0\" encoding=\"UTF-8\" standalone=\"no\"?>\n<!DOCTYPE svg PUBLIC \"-//W3C//DTD SVG 1.1//EN\"\n \"http://www.w3.org/Graphics/SVG/1.1/DTD/svg11.dtd\">\n<!-- Generated by graphviz version 2.43.0 (0)\n -->\n<!-- Title: %3 Pages: 1 -->\n<svg width=\"714pt\" height=\"188pt\"\n viewBox=\"0.00 0.00 713.73 188.00\" xmlns=\"http://www.w3.org/2000/svg\" xmlns:xlink=\"http://www.w3.org/1999/xlink\">\n<g id=\"graph0\" class=\"graph\" transform=\"scale(1 1) rotate(0) translate(4 184)\">\n<title>%3</title>\n<polygon fill=\"white\" stroke=\"transparent\" points=\"-4,4 -4,-184 709.73,-184 709.73,4 -4,4\"/>\n<!-- __main__.Node object at 0x7cbb28327d60 -->\n<g id=\"node1\" class=\"node\">\n<title>__main__.Node object at 0x7cbb28327d60</title>\n<ellipse fill=\"none\" stroke=\"black\" cx=\"229.14\" cy=\"-162\" rx=\"111.28\" ry=\"18\"/>\n<text text-anchor=\"middle\" x=\"229.14\" y=\"-158.3\" font-family=\"Times,serif\" font-size=\"14.00\">bike_002.bmp, bike, 921.65</text>\n</g>\n<!-- __main__.Node object at 0x7cbb28325420 -->\n<g id=\"node2\" class=\"node\">\n<title>__main__.Node object at 0x7cbb28325420</title>\n<ellipse fill=\"none\" stroke=\"black\" cx=\"111.14\" cy=\"-90\" rx=\"111.28\" ry=\"18\"/>\n<text text-anchor=\"middle\" x=\"111.14\" y=\"-86.3\" font-family=\"Times,serif\" font-size=\"14.00\">bike_001.bmp, bike, 921.65</text>\n</g>\n<!-- __main__.Node object at 0x7cbb28327d60&#45;&gt;__main__.Node object at 0x7cbb28325420 -->\n<g id=\"edge1\" class=\"edge\">\n<title>__main__.Node object at 0x7cbb28327d60&#45;&gt;__main__.Node object at 0x7cbb28325420</title>\n<path fill=\"none\" stroke=\"black\" d=\"M201.18,-144.41C185.16,-134.91 164.87,-122.88 147.61,-112.64\"/>\n<polygon fill=\"black\" stroke=\"black\" points=\"149.29,-109.56 138.9,-107.47 145.72,-115.58 149.29,-109.56\"/>\n</g>\n<!-- __main__.Node object at 0x7cbb28327550 -->\n<g id=\"node4\" class=\"node\">\n<title>__main__.Node object at 0x7cbb28327550</title>\n<ellipse fill=\"none\" stroke=\"black\" cx=\"350.14\" cy=\"-90\" rx=\"106.68\" ry=\"18\"/>\n<text text-anchor=\"middle\" x=\"350.14\" y=\"-86.3\" font-family=\"Times,serif\" font-size=\"14.00\">rider&#45;110.jpg, human, 7.05</text>\n</g>\n<!-- __main__.Node object at 0x7cbb28327d60&#45;&gt;__main__.Node object at 0x7cbb28327550 -->\n<g id=\"edge3\" class=\"edge\">\n<title>__main__.Node object at 0x7cbb28327d60&#45;&gt;__main__.Node object at 0x7cbb28327550</title>\n<path fill=\"none\" stroke=\"black\" d=\"M257.51,-144.59C273.93,-135.09 294.79,-123.02 312.56,-112.74\"/>\n<polygon fill=\"black\" stroke=\"black\" points=\"314.63,-115.59 321.53,-107.55 311.12,-109.53 314.63,-115.59\"/>\n</g>\n<!-- __main__.Node object at 0x7cbb28327340 -->\n<g id=\"node3\" class=\"node\">\n<title>__main__.Node object at 0x7cbb28327340</title>\n<ellipse fill=\"none\" stroke=\"black\" cx=\"108.14\" cy=\"-18\" rx=\"100.18\" ry=\"18\"/>\n<text text-anchor=\"middle\" x=\"108.14\" y=\"-14.3\" font-family=\"Times,serif\" font-size=\"14.00\">0001.png, flowers, 48.55</text>\n</g>\n<!-- __main__.Node object at 0x7cbb28325420&#45;&gt;__main__.Node object at 0x7cbb28327340 -->\n<g id=\"edge2\" class=\"edge\">\n<title>__main__.Node object at 0x7cbb28325420&#45;&gt;__main__.Node object at 0x7cbb28327340</title>\n<path fill=\"none\" stroke=\"black\" d=\"M110.4,-71.7C110.07,-63.98 109.67,-54.71 109.3,-46.11\"/>\n<polygon fill=\"black\" stroke=\"black\" points=\"112.8,-45.95 108.87,-36.1 105.8,-46.25 112.8,-45.95\"/>\n</g>\n<!-- __main__.Node object at 0x7cbb28326b90 -->\n<g id=\"node5\" class=\"node\">\n<title>__main__.Node object at 0x7cbb28326b90</title>\n<ellipse fill=\"none\" stroke=\"black\" cx=\"350.14\" cy=\"-18\" rx=\"124.28\" ry=\"18\"/>\n<text text-anchor=\"middle\" x=\"350.14\" y=\"-14.3\" font-family=\"Times,serif\" font-size=\"14.00\">carsgraz_001.bmp, cars, 921.65</text>\n</g>\n<!-- __main__.Node object at 0x7cbb28327550&#45;&gt;__main__.Node object at 0x7cbb28326b90 -->\n<g id=\"edge4\" class=\"edge\">\n<title>__main__.Node object at 0x7cbb28327550&#45;&gt;__main__.Node object at 0x7cbb28326b90</title>\n<path fill=\"none\" stroke=\"black\" d=\"M350.14,-71.7C350.14,-63.98 350.14,-54.71 350.14,-46.11\"/>\n<polygon fill=\"black\" stroke=\"black\" points=\"353.64,-46.1 350.14,-36.1 346.64,-46.1 353.64,-46.1\"/>\n</g>\n<!-- __main__.Node object at 0x7cbb28325d20 -->\n<g id=\"node6\" class=\"node\">\n<title>__main__.Node object at 0x7cbb28325d20</title>\n<ellipse fill=\"none\" stroke=\"black\" cx=\"599.14\" cy=\"-18\" rx=\"106.68\" ry=\"18\"/>\n<text text-anchor=\"middle\" x=\"599.14\" y=\"-14.3\" font-family=\"Times,serif\" font-size=\"14.00\">rider&#45;120.jpg, human, 27.4</text>\n</g>\n<!-- __main__.Node object at 0x7cbb28327550&#45;&gt;__main__.Node object at 0x7cbb28325d20 -->\n<g id=\"edge5\" class=\"edge\">\n<title>__main__.Node object at 0x7cbb28327550&#45;&gt;__main__.Node object at 0x7cbb28325d20</title>\n<path fill=\"none\" stroke=\"black\" d=\"M402.64,-74.24C441.87,-63.21 495.64,-48.1 537.01,-36.47\"/>\n<polygon fill=\"black\" stroke=\"black\" points=\"538.03,-39.82 546.71,-33.74 536.14,-33.08 538.03,-39.82\"/>\n</g>\n</g>\n</svg>\n",
            "text/plain": [
              "<graphviz.graphs.Digraph at 0x7cbb28325d50>"
            ]
          },
          "metadata": {},
          "execution_count": 22
        }
      ]
    },
    {
      "cell_type": "code",
      "source": [
        "node = Node('rider-150.jpg', 'human', 16.55)\n",
        "Arbol = insert(Arbol, node)\n",
        "dibujar_arbol(Arbol)"
      ],
      "metadata": {
        "colab": {
          "base_uri": "https://localhost:8080/",
          "height": 368
        },
        "id": "YkQoM8KLxS7n",
        "outputId": "d6241c60-06b6-4863-9c82-570168917783"
      },
      "execution_count": 23,
      "outputs": [
        {
          "output_type": "execute_result",
          "data": {
            "image/svg+xml": "<?xml version=\"1.0\" encoding=\"UTF-8\" standalone=\"no\"?>\n<!DOCTYPE svg PUBLIC \"-//W3C//DTD SVG 1.1//EN\"\n \"http://www.w3.org/Graphics/SVG/1.1/DTD/svg11.dtd\">\n<!-- Generated by graphviz version 2.43.0 (0)\n -->\n<!-- Title: %3 Pages: 1 -->\n<svg width=\"718pt\" height=\"260pt\"\n viewBox=\"0.00 0.00 718.28 260.00\" xmlns=\"http://www.w3.org/2000/svg\" xmlns:xlink=\"http://www.w3.org/1999/xlink\">\n<g id=\"graph0\" class=\"graph\" transform=\"scale(1 1) rotate(0) translate(4 256)\">\n<title>%3</title>\n<polygon fill=\"white\" stroke=\"transparent\" points=\"-4,4 -4,-256 714.28,-256 714.28,4 -4,4\"/>\n<!-- __main__.Node object at 0x7cbb28327d60 -->\n<g id=\"node1\" class=\"node\">\n<title>__main__.Node object at 0x7cbb28327d60</title>\n<ellipse fill=\"none\" stroke=\"black\" cx=\"229.14\" cy=\"-234\" rx=\"111.28\" ry=\"18\"/>\n<text text-anchor=\"middle\" x=\"229.14\" y=\"-230.3\" font-family=\"Times,serif\" font-size=\"14.00\">bike_002.bmp, bike, 921.65</text>\n</g>\n<!-- __main__.Node object at 0x7cbb28325420 -->\n<g id=\"node2\" class=\"node\">\n<title>__main__.Node object at 0x7cbb28325420</title>\n<ellipse fill=\"none\" stroke=\"black\" cx=\"111.14\" cy=\"-162\" rx=\"111.28\" ry=\"18\"/>\n<text text-anchor=\"middle\" x=\"111.14\" y=\"-158.3\" font-family=\"Times,serif\" font-size=\"14.00\">bike_001.bmp, bike, 921.65</text>\n</g>\n<!-- __main__.Node object at 0x7cbb28327d60&#45;&gt;__main__.Node object at 0x7cbb28325420 -->\n<g id=\"edge1\" class=\"edge\">\n<title>__main__.Node object at 0x7cbb28327d60&#45;&gt;__main__.Node object at 0x7cbb28325420</title>\n<path fill=\"none\" stroke=\"black\" d=\"M201.18,-216.41C185.16,-206.91 164.87,-194.88 147.61,-184.64\"/>\n<polygon fill=\"black\" stroke=\"black\" points=\"149.29,-181.56 138.9,-179.47 145.72,-187.58 149.29,-181.56\"/>\n</g>\n<!-- __main__.Node object at 0x7cbb28327550 -->\n<g id=\"node4\" class=\"node\">\n<title>__main__.Node object at 0x7cbb28327550</title>\n<ellipse fill=\"none\" stroke=\"black\" cx=\"350.14\" cy=\"-162\" rx=\"106.68\" ry=\"18\"/>\n<text text-anchor=\"middle\" x=\"350.14\" y=\"-158.3\" font-family=\"Times,serif\" font-size=\"14.00\">rider&#45;110.jpg, human, 7.05</text>\n</g>\n<!-- __main__.Node object at 0x7cbb28327d60&#45;&gt;__main__.Node object at 0x7cbb28327550 -->\n<g id=\"edge3\" class=\"edge\">\n<title>__main__.Node object at 0x7cbb28327d60&#45;&gt;__main__.Node object at 0x7cbb28327550</title>\n<path fill=\"none\" stroke=\"black\" d=\"M257.51,-216.59C273.93,-207.09 294.79,-195.02 312.56,-184.74\"/>\n<polygon fill=\"black\" stroke=\"black\" points=\"314.63,-187.59 321.53,-179.55 311.12,-181.53 314.63,-187.59\"/>\n</g>\n<!-- __main__.Node object at 0x7cbb28327340 -->\n<g id=\"node3\" class=\"node\">\n<title>__main__.Node object at 0x7cbb28327340</title>\n<ellipse fill=\"none\" stroke=\"black\" cx=\"108.14\" cy=\"-90\" rx=\"100.18\" ry=\"18\"/>\n<text text-anchor=\"middle\" x=\"108.14\" y=\"-86.3\" font-family=\"Times,serif\" font-size=\"14.00\">0001.png, flowers, 48.55</text>\n</g>\n<!-- __main__.Node object at 0x7cbb28325420&#45;&gt;__main__.Node object at 0x7cbb28327340 -->\n<g id=\"edge2\" class=\"edge\">\n<title>__main__.Node object at 0x7cbb28325420&#45;&gt;__main__.Node object at 0x7cbb28327340</title>\n<path fill=\"none\" stroke=\"black\" d=\"M110.4,-143.7C110.07,-135.98 109.67,-126.71 109.3,-118.11\"/>\n<polygon fill=\"black\" stroke=\"black\" points=\"112.8,-117.95 108.87,-108.1 105.8,-118.25 112.8,-117.95\"/>\n</g>\n<!-- __main__.Node object at 0x7cbb28326b90 -->\n<g id=\"node5\" class=\"node\">\n<title>__main__.Node object at 0x7cbb28326b90</title>\n<ellipse fill=\"none\" stroke=\"black\" cx=\"350.14\" cy=\"-90\" rx=\"124.28\" ry=\"18\"/>\n<text text-anchor=\"middle\" x=\"350.14\" y=\"-86.3\" font-family=\"Times,serif\" font-size=\"14.00\">carsgraz_001.bmp, cars, 921.65</text>\n</g>\n<!-- __main__.Node object at 0x7cbb28327550&#45;&gt;__main__.Node object at 0x7cbb28326b90 -->\n<g id=\"edge4\" class=\"edge\">\n<title>__main__.Node object at 0x7cbb28327550&#45;&gt;__main__.Node object at 0x7cbb28326b90</title>\n<path fill=\"none\" stroke=\"black\" d=\"M350.14,-143.7C350.14,-135.98 350.14,-126.71 350.14,-118.11\"/>\n<polygon fill=\"black\" stroke=\"black\" points=\"353.64,-118.1 350.14,-108.1 346.64,-118.1 353.64,-118.1\"/>\n</g>\n<!-- __main__.Node object at 0x7cbb28325d20 -->\n<g id=\"node6\" class=\"node\">\n<title>__main__.Node object at 0x7cbb28325d20</title>\n<ellipse fill=\"none\" stroke=\"black\" cx=\"599.14\" cy=\"-90\" rx=\"106.68\" ry=\"18\"/>\n<text text-anchor=\"middle\" x=\"599.14\" y=\"-86.3\" font-family=\"Times,serif\" font-size=\"14.00\">rider&#45;120.jpg, human, 27.4</text>\n</g>\n<!-- __main__.Node object at 0x7cbb28327550&#45;&gt;__main__.Node object at 0x7cbb28325d20 -->\n<g id=\"edge5\" class=\"edge\">\n<title>__main__.Node object at 0x7cbb28327550&#45;&gt;__main__.Node object at 0x7cbb28325d20</title>\n<path fill=\"none\" stroke=\"black\" d=\"M402.64,-146.24C441.87,-135.21 495.64,-120.1 537.01,-108.47\"/>\n<polygon fill=\"black\" stroke=\"black\" points=\"538.03,-111.82 546.71,-105.74 536.14,-105.08 538.03,-111.82\"/>\n</g>\n<!-- __main__.Node object at 0x7cbb28325cf0 -->\n<g id=\"node7\" class=\"node\">\n<title>__main__.Node object at 0x7cbb28325cf0</title>\n<ellipse fill=\"none\" stroke=\"black\" cx=\"599.14\" cy=\"-18\" rx=\"111.28\" ry=\"18\"/>\n<text text-anchor=\"middle\" x=\"599.14\" y=\"-14.3\" font-family=\"Times,serif\" font-size=\"14.00\">rider&#45;150.jpg, human, 16.55</text>\n</g>\n<!-- __main__.Node object at 0x7cbb28325d20&#45;&gt;__main__.Node object at 0x7cbb28325cf0 -->\n<g id=\"edge6\" class=\"edge\">\n<title>__main__.Node object at 0x7cbb28325d20&#45;&gt;__main__.Node object at 0x7cbb28325cf0</title>\n<path fill=\"none\" stroke=\"black\" d=\"M599.14,-71.7C599.14,-63.98 599.14,-54.71 599.14,-46.11\"/>\n<polygon fill=\"black\" stroke=\"black\" points=\"602.64,-46.1 599.14,-36.1 595.64,-46.1 602.64,-46.1\"/>\n</g>\n</g>\n</svg>\n",
            "text/plain": [
              "<graphviz.graphs.Digraph at 0x7cbb28326470>"
            ]
          },
          "metadata": {},
          "execution_count": 23
        }
      ]
    },
    {
      "cell_type": "code",
      "source": [
        "node = Node('rider-151.jpg', 'human', 22.73)\n",
        "Arbol = insert(Arbol, node)\n",
        "dibujar_arbol(Arbol)"
      ],
      "metadata": {
        "colab": {
          "base_uri": "https://localhost:8080/",
          "height": 368
        },
        "id": "hqvn5aKUxTha",
        "outputId": "aca0b261-adc1-43af-a1ec-df3daede000a"
      },
      "execution_count": 24,
      "outputs": [
        {
          "output_type": "execute_result",
          "data": {
            "image/svg+xml": "<?xml version=\"1.0\" encoding=\"UTF-8\" standalone=\"no\"?>\n<!DOCTYPE svg PUBLIC \"-//W3C//DTD SVG 1.1//EN\"\n \"http://www.w3.org/Graphics/SVG/1.1/DTD/svg11.dtd\">\n<!-- Generated by graphviz version 2.43.0 (0)\n -->\n<!-- Title: %3 Pages: 1 -->\n<svg width=\"840pt\" height=\"260pt\"\n viewBox=\"0.00 0.00 840.28 260.00\" xmlns=\"http://www.w3.org/2000/svg\" xmlns:xlink=\"http://www.w3.org/1999/xlink\">\n<g id=\"graph0\" class=\"graph\" transform=\"scale(1 1) rotate(0) translate(4 256)\">\n<title>%3</title>\n<polygon fill=\"white\" stroke=\"transparent\" points=\"-4,4 -4,-256 836.28,-256 836.28,4 -4,4\"/>\n<!-- __main__.Node object at 0x7cbb28327d60 -->\n<g id=\"node1\" class=\"node\">\n<title>__main__.Node object at 0x7cbb28327d60</title>\n<ellipse fill=\"none\" stroke=\"black\" cx=\"229.14\" cy=\"-234\" rx=\"111.28\" ry=\"18\"/>\n<text text-anchor=\"middle\" x=\"229.14\" y=\"-230.3\" font-family=\"Times,serif\" font-size=\"14.00\">bike_002.bmp, bike, 921.65</text>\n</g>\n<!-- __main__.Node object at 0x7cbb28325420 -->\n<g id=\"node2\" class=\"node\">\n<title>__main__.Node object at 0x7cbb28325420</title>\n<ellipse fill=\"none\" stroke=\"black\" cx=\"111.14\" cy=\"-162\" rx=\"111.28\" ry=\"18\"/>\n<text text-anchor=\"middle\" x=\"111.14\" y=\"-158.3\" font-family=\"Times,serif\" font-size=\"14.00\">bike_001.bmp, bike, 921.65</text>\n</g>\n<!-- __main__.Node object at 0x7cbb28327d60&#45;&gt;__main__.Node object at 0x7cbb28325420 -->\n<g id=\"edge1\" class=\"edge\">\n<title>__main__.Node object at 0x7cbb28327d60&#45;&gt;__main__.Node object at 0x7cbb28325420</title>\n<path fill=\"none\" stroke=\"black\" d=\"M201.18,-216.41C185.16,-206.91 164.87,-194.88 147.61,-184.64\"/>\n<polygon fill=\"black\" stroke=\"black\" points=\"149.29,-181.56 138.9,-179.47 145.72,-187.58 149.29,-181.56\"/>\n</g>\n<!-- __main__.Node object at 0x7cbb28327550 -->\n<g id=\"node4\" class=\"node\">\n<title>__main__.Node object at 0x7cbb28327550</title>\n<ellipse fill=\"none\" stroke=\"black\" cx=\"350.14\" cy=\"-162\" rx=\"106.68\" ry=\"18\"/>\n<text text-anchor=\"middle\" x=\"350.14\" y=\"-158.3\" font-family=\"Times,serif\" font-size=\"14.00\">rider&#45;110.jpg, human, 7.05</text>\n</g>\n<!-- __main__.Node object at 0x7cbb28327d60&#45;&gt;__main__.Node object at 0x7cbb28327550 -->\n<g id=\"edge3\" class=\"edge\">\n<title>__main__.Node object at 0x7cbb28327d60&#45;&gt;__main__.Node object at 0x7cbb28327550</title>\n<path fill=\"none\" stroke=\"black\" d=\"M257.51,-216.59C273.93,-207.09 294.79,-195.02 312.56,-184.74\"/>\n<polygon fill=\"black\" stroke=\"black\" points=\"314.63,-187.59 321.53,-179.55 311.12,-181.53 314.63,-187.59\"/>\n</g>\n<!-- __main__.Node object at 0x7cbb28327340 -->\n<g id=\"node3\" class=\"node\">\n<title>__main__.Node object at 0x7cbb28327340</title>\n<ellipse fill=\"none\" stroke=\"black\" cx=\"108.14\" cy=\"-90\" rx=\"100.18\" ry=\"18\"/>\n<text text-anchor=\"middle\" x=\"108.14\" y=\"-86.3\" font-family=\"Times,serif\" font-size=\"14.00\">0001.png, flowers, 48.55</text>\n</g>\n<!-- __main__.Node object at 0x7cbb28325420&#45;&gt;__main__.Node object at 0x7cbb28327340 -->\n<g id=\"edge2\" class=\"edge\">\n<title>__main__.Node object at 0x7cbb28325420&#45;&gt;__main__.Node object at 0x7cbb28327340</title>\n<path fill=\"none\" stroke=\"black\" d=\"M110.4,-143.7C110.07,-135.98 109.67,-126.71 109.3,-118.11\"/>\n<polygon fill=\"black\" stroke=\"black\" points=\"112.8,-117.95 108.87,-108.1 105.8,-118.25 112.8,-117.95\"/>\n</g>\n<!-- __main__.Node object at 0x7cbb28326b90 -->\n<g id=\"node5\" class=\"node\">\n<title>__main__.Node object at 0x7cbb28326b90</title>\n<ellipse fill=\"none\" stroke=\"black\" cx=\"350.14\" cy=\"-90\" rx=\"124.28\" ry=\"18\"/>\n<text text-anchor=\"middle\" x=\"350.14\" y=\"-86.3\" font-family=\"Times,serif\" font-size=\"14.00\">carsgraz_001.bmp, cars, 921.65</text>\n</g>\n<!-- __main__.Node object at 0x7cbb28327550&#45;&gt;__main__.Node object at 0x7cbb28326b90 -->\n<g id=\"edge4\" class=\"edge\">\n<title>__main__.Node object at 0x7cbb28327550&#45;&gt;__main__.Node object at 0x7cbb28326b90</title>\n<path fill=\"none\" stroke=\"black\" d=\"M350.14,-143.7C350.14,-135.98 350.14,-126.71 350.14,-118.11\"/>\n<polygon fill=\"black\" stroke=\"black\" points=\"353.64,-118.1 350.14,-108.1 346.64,-118.1 353.64,-118.1\"/>\n</g>\n<!-- __main__.Node object at 0x7cbb28325cf0 -->\n<g id=\"node6\" class=\"node\">\n<title>__main__.Node object at 0x7cbb28325cf0</title>\n<ellipse fill=\"none\" stroke=\"black\" cx=\"603.14\" cy=\"-90\" rx=\"111.28\" ry=\"18\"/>\n<text text-anchor=\"middle\" x=\"603.14\" y=\"-86.3\" font-family=\"Times,serif\" font-size=\"14.00\">rider&#45;150.jpg, human, 16.55</text>\n</g>\n<!-- __main__.Node object at 0x7cbb28327550&#45;&gt;__main__.Node object at 0x7cbb28325cf0 -->\n<g id=\"edge5\" class=\"edge\">\n<title>__main__.Node object at 0x7cbb28327550&#45;&gt;__main__.Node object at 0x7cbb28325cf0</title>\n<path fill=\"none\" stroke=\"black\" d=\"M403.18,-146.33C442.88,-135.34 497.37,-120.27 539.44,-108.63\"/>\n<polygon fill=\"black\" stroke=\"black\" points=\"540.6,-111.94 549.3,-105.9 538.73,-105.19 540.6,-111.94\"/>\n</g>\n<!-- __main__.Node object at 0x7cbb28325d20 -->\n<g id=\"node7\" class=\"node\">\n<title>__main__.Node object at 0x7cbb28325d20</title>\n<ellipse fill=\"none\" stroke=\"black\" cx=\"485.14\" cy=\"-18\" rx=\"106.68\" ry=\"18\"/>\n<text text-anchor=\"middle\" x=\"485.14\" y=\"-14.3\" font-family=\"Times,serif\" font-size=\"14.00\">rider&#45;120.jpg, human, 27.4</text>\n</g>\n<!-- __main__.Node object at 0x7cbb28325cf0&#45;&gt;__main__.Node object at 0x7cbb28325d20 -->\n<g id=\"edge6\" class=\"edge\">\n<title>__main__.Node object at 0x7cbb28325cf0&#45;&gt;__main__.Node object at 0x7cbb28325d20</title>\n<path fill=\"none\" stroke=\"black\" d=\"M575.18,-72.41C559.16,-62.91 538.87,-50.88 521.61,-40.64\"/>\n<polygon fill=\"black\" stroke=\"black\" points=\"523.29,-37.56 512.9,-35.47 519.72,-43.58 523.29,-37.56\"/>\n</g>\n<!-- __main__.Node object at 0x7cbb28327d00 -->\n<g id=\"node8\" class=\"node\">\n<title>__main__.Node object at 0x7cbb28327d00</title>\n<ellipse fill=\"none\" stroke=\"black\" cx=\"721.14\" cy=\"-18\" rx=\"111.28\" ry=\"18\"/>\n<text text-anchor=\"middle\" x=\"721.14\" y=\"-14.3\" font-family=\"Times,serif\" font-size=\"14.00\">rider&#45;151.jpg, human, 22.73</text>\n</g>\n<!-- __main__.Node object at 0x7cbb28325cf0&#45;&gt;__main__.Node object at 0x7cbb28327d00 -->\n<g id=\"edge7\" class=\"edge\">\n<title>__main__.Node object at 0x7cbb28325cf0&#45;&gt;__main__.Node object at 0x7cbb28327d00</title>\n<path fill=\"none\" stroke=\"black\" d=\"M631.1,-72.41C647.12,-62.91 667.41,-50.88 684.67,-40.64\"/>\n<polygon fill=\"black\" stroke=\"black\" points=\"686.56,-43.58 693.38,-35.47 682.99,-37.56 686.56,-43.58\"/>\n</g>\n</g>\n</svg>\n",
            "text/plain": [
              "<graphviz.graphs.Digraph at 0x7cbb28325ae0>"
            ]
          },
          "metadata": {},
          "execution_count": 24
        }
      ]
    },
    {
      "cell_type": "code",
      "source": [
        "#Eliminar nodo\n",
        "Arbol = delete(Arbol, '0001.png')\n",
        "dibujar_arbol(Arbol)"
      ],
      "metadata": {
        "colab": {
          "base_uri": "https://localhost:8080/",
          "height": 272
        },
        "id": "yO35jb_qxWTC",
        "outputId": "7a1ae2a4-429f-4be5-e507-0fa7939f682e"
      },
      "execution_count": 25,
      "outputs": [
        {
          "output_type": "execute_result",
          "data": {
            "image/svg+xml": "<?xml version=\"1.0\" encoding=\"UTF-8\" standalone=\"no\"?>\n<!DOCTYPE svg PUBLIC \"-//W3C//DTD SVG 1.1//EN\"\n \"http://www.w3.org/Graphics/SVG/1.1/DTD/svg11.dtd\">\n<!-- Generated by graphviz version 2.43.0 (0)\n -->\n<!-- Title: %3 Pages: 1 -->\n<svg width=\"968pt\" height=\"188pt\"\n viewBox=\"0.00 0.00 968.28 188.00\" xmlns=\"http://www.w3.org/2000/svg\" xmlns:xlink=\"http://www.w3.org/1999/xlink\">\n<g id=\"graph0\" class=\"graph\" transform=\"scale(1 1) rotate(0) translate(4 184)\">\n<title>%3</title>\n<polygon fill=\"white\" stroke=\"transparent\" points=\"-4,4 -4,-184 964.28,-184 964.28,4 -4,4\"/>\n<!-- __main__.Node object at 0x7cbb28327550 -->\n<g id=\"node1\" class=\"node\">\n<title>__main__.Node object at 0x7cbb28327550</title>\n<ellipse fill=\"none\" stroke=\"black\" cx=\"488.14\" cy=\"-162\" rx=\"106.68\" ry=\"18\"/>\n<text text-anchor=\"middle\" x=\"488.14\" y=\"-158.3\" font-family=\"Times,serif\" font-size=\"14.00\">rider&#45;110.jpg, human, 7.05</text>\n</g>\n<!-- __main__.Node object at 0x7cbb28327d60 -->\n<g id=\"node2\" class=\"node\">\n<title>__main__.Node object at 0x7cbb28327d60</title>\n<ellipse fill=\"none\" stroke=\"black\" cx=\"364.14\" cy=\"-90\" rx=\"111.28\" ry=\"18\"/>\n<text text-anchor=\"middle\" x=\"364.14\" y=\"-86.3\" font-family=\"Times,serif\" font-size=\"14.00\">bike_002.bmp, bike, 921.65</text>\n</g>\n<!-- __main__.Node object at 0x7cbb28327550&#45;&gt;__main__.Node object at 0x7cbb28327d60 -->\n<g id=\"edge1\" class=\"edge\">\n<title>__main__.Node object at 0x7cbb28327550&#45;&gt;__main__.Node object at 0x7cbb28327d60</title>\n<path fill=\"none\" stroke=\"black\" d=\"M459.07,-144.59C442.17,-135.05 420.67,-122.91 402.4,-112.6\"/>\n<polygon fill=\"black\" stroke=\"black\" points=\"403.89,-109.42 393.46,-107.55 400.45,-115.52 403.89,-109.42\"/>\n</g>\n<!-- __main__.Node object at 0x7cbb28325cf0 -->\n<g id=\"node5\" class=\"node\">\n<title>__main__.Node object at 0x7cbb28325cf0</title>\n<ellipse fill=\"none\" stroke=\"black\" cx=\"613.14\" cy=\"-90\" rx=\"111.28\" ry=\"18\"/>\n<text text-anchor=\"middle\" x=\"613.14\" y=\"-86.3\" font-family=\"Times,serif\" font-size=\"14.00\">rider&#45;150.jpg, human, 16.55</text>\n</g>\n<!-- __main__.Node object at 0x7cbb28327550&#45;&gt;__main__.Node object at 0x7cbb28325cf0 -->\n<g id=\"edge4\" class=\"edge\">\n<title>__main__.Node object at 0x7cbb28327550&#45;&gt;__main__.Node object at 0x7cbb28325cf0</title>\n<path fill=\"none\" stroke=\"black\" d=\"M517.45,-144.59C534.56,-135 556.36,-122.8 574.82,-112.46\"/>\n<polygon fill=\"black\" stroke=\"black\" points=\"576.57,-115.49 583.58,-107.55 573.15,-109.38 576.57,-115.49\"/>\n</g>\n<!-- __main__.Node object at 0x7cbb28325420 -->\n<g id=\"node3\" class=\"node\">\n<title>__main__.Node object at 0x7cbb28325420</title>\n<ellipse fill=\"none\" stroke=\"black\" cx=\"111.14\" cy=\"-18\" rx=\"111.28\" ry=\"18\"/>\n<text text-anchor=\"middle\" x=\"111.14\" y=\"-14.3\" font-family=\"Times,serif\" font-size=\"14.00\">bike_001.bmp, bike, 921.65</text>\n</g>\n<!-- __main__.Node object at 0x7cbb28327d60&#45;&gt;__main__.Node object at 0x7cbb28325420 -->\n<g id=\"edge2\" class=\"edge\">\n<title>__main__.Node object at 0x7cbb28327d60&#45;&gt;__main__.Node object at 0x7cbb28325420</title>\n<path fill=\"none\" stroke=\"black\" d=\"M310.49,-74.15C270.74,-63.16 216.43,-48.13 174.54,-36.54\"/>\n<polygon fill=\"black\" stroke=\"black\" points=\"175.29,-33.12 164.72,-33.82 173.42,-39.86 175.29,-33.12\"/>\n</g>\n<!-- __main__.Node object at 0x7cbb28326b90 -->\n<g id=\"node4\" class=\"node\">\n<title>__main__.Node object at 0x7cbb28326b90</title>\n<ellipse fill=\"none\" stroke=\"black\" cx=\"364.14\" cy=\"-18\" rx=\"124.28\" ry=\"18\"/>\n<text text-anchor=\"middle\" x=\"364.14\" y=\"-14.3\" font-family=\"Times,serif\" font-size=\"14.00\">carsgraz_001.bmp, cars, 921.65</text>\n</g>\n<!-- __main__.Node object at 0x7cbb28327d60&#45;&gt;__main__.Node object at 0x7cbb28326b90 -->\n<g id=\"edge3\" class=\"edge\">\n<title>__main__.Node object at 0x7cbb28327d60&#45;&gt;__main__.Node object at 0x7cbb28326b90</title>\n<path fill=\"none\" stroke=\"black\" d=\"M364.14,-71.7C364.14,-63.98 364.14,-54.71 364.14,-46.11\"/>\n<polygon fill=\"black\" stroke=\"black\" points=\"367.64,-46.1 364.14,-36.1 360.64,-46.1 367.64,-46.1\"/>\n</g>\n<!-- __main__.Node object at 0x7cbb28325d20 -->\n<g id=\"node6\" class=\"node\">\n<title>__main__.Node object at 0x7cbb28325d20</title>\n<ellipse fill=\"none\" stroke=\"black\" cx=\"613.14\" cy=\"-18\" rx=\"106.68\" ry=\"18\"/>\n<text text-anchor=\"middle\" x=\"613.14\" y=\"-14.3\" font-family=\"Times,serif\" font-size=\"14.00\">rider&#45;120.jpg, human, 27.4</text>\n</g>\n<!-- __main__.Node object at 0x7cbb28325cf0&#45;&gt;__main__.Node object at 0x7cbb28325d20 -->\n<g id=\"edge5\" class=\"edge\">\n<title>__main__.Node object at 0x7cbb28325cf0&#45;&gt;__main__.Node object at 0x7cbb28325d20</title>\n<path fill=\"none\" stroke=\"black\" d=\"M613.14,-71.7C613.14,-63.98 613.14,-54.71 613.14,-46.11\"/>\n<polygon fill=\"black\" stroke=\"black\" points=\"616.64,-46.1 613.14,-36.1 609.64,-46.1 616.64,-46.1\"/>\n</g>\n<!-- __main__.Node object at 0x7cbb28327d00 -->\n<g id=\"node7\" class=\"node\">\n<title>__main__.Node object at 0x7cbb28327d00</title>\n<ellipse fill=\"none\" stroke=\"black\" cx=\"849.14\" cy=\"-18\" rx=\"111.28\" ry=\"18\"/>\n<text text-anchor=\"middle\" x=\"849.14\" y=\"-14.3\" font-family=\"Times,serif\" font-size=\"14.00\">rider&#45;151.jpg, human, 22.73</text>\n</g>\n<!-- __main__.Node object at 0x7cbb28325cf0&#45;&gt;__main__.Node object at 0x7cbb28327d00 -->\n<g id=\"edge6\" class=\"edge\">\n<title>__main__.Node object at 0x7cbb28325cf0&#45;&gt;__main__.Node object at 0x7cbb28327d00</title>\n<path fill=\"none\" stroke=\"black\" d=\"M664.06,-73.9C700.5,-63.09 749.73,-48.48 788.26,-37.06\"/>\n<polygon fill=\"black\" stroke=\"black\" points=\"789.72,-40.27 798.31,-34.08 787.73,-33.56 789.72,-40.27\"/>\n</g>\n</g>\n</svg>\n",
            "text/plain": [
              "<graphviz.graphs.Digraph at 0x7cbb28326da0>"
            ]
          },
          "metadata": {},
          "execution_count": 25
        }
      ]
    },
    {
      "cell_type": "code",
      "source": [
        "dibujar_arbol(Arbol)"
      ],
      "metadata": {
        "colab": {
          "base_uri": "https://localhost:8080/",
          "height": 272
        },
        "id": "SxuVR6q1xZGa",
        "outputId": "986db3ef-5181-4f24-dc69-dbd92b1dd3f2"
      },
      "execution_count": 26,
      "outputs": [
        {
          "output_type": "execute_result",
          "data": {
            "image/svg+xml": "<?xml version=\"1.0\" encoding=\"UTF-8\" standalone=\"no\"?>\n<!DOCTYPE svg PUBLIC \"-//W3C//DTD SVG 1.1//EN\"\n \"http://www.w3.org/Graphics/SVG/1.1/DTD/svg11.dtd\">\n<!-- Generated by graphviz version 2.43.0 (0)\n -->\n<!-- Title: %3 Pages: 1 -->\n<svg width=\"968pt\" height=\"188pt\"\n viewBox=\"0.00 0.00 968.28 188.00\" xmlns=\"http://www.w3.org/2000/svg\" xmlns:xlink=\"http://www.w3.org/1999/xlink\">\n<g id=\"graph0\" class=\"graph\" transform=\"scale(1 1) rotate(0) translate(4 184)\">\n<title>%3</title>\n<polygon fill=\"white\" stroke=\"transparent\" points=\"-4,4 -4,-184 964.28,-184 964.28,4 -4,4\"/>\n<!-- __main__.Node object at 0x7cbb28327550 -->\n<g id=\"node1\" class=\"node\">\n<title>__main__.Node object at 0x7cbb28327550</title>\n<ellipse fill=\"none\" stroke=\"black\" cx=\"488.14\" cy=\"-162\" rx=\"106.68\" ry=\"18\"/>\n<text text-anchor=\"middle\" x=\"488.14\" y=\"-158.3\" font-family=\"Times,serif\" font-size=\"14.00\">rider&#45;110.jpg, human, 7.05</text>\n</g>\n<!-- __main__.Node object at 0x7cbb28327d60 -->\n<g id=\"node2\" class=\"node\">\n<title>__main__.Node object at 0x7cbb28327d60</title>\n<ellipse fill=\"none\" stroke=\"black\" cx=\"364.14\" cy=\"-90\" rx=\"111.28\" ry=\"18\"/>\n<text text-anchor=\"middle\" x=\"364.14\" y=\"-86.3\" font-family=\"Times,serif\" font-size=\"14.00\">bike_002.bmp, bike, 921.65</text>\n</g>\n<!-- __main__.Node object at 0x7cbb28327550&#45;&gt;__main__.Node object at 0x7cbb28327d60 -->\n<g id=\"edge1\" class=\"edge\">\n<title>__main__.Node object at 0x7cbb28327550&#45;&gt;__main__.Node object at 0x7cbb28327d60</title>\n<path fill=\"none\" stroke=\"black\" d=\"M459.07,-144.59C442.17,-135.05 420.67,-122.91 402.4,-112.6\"/>\n<polygon fill=\"black\" stroke=\"black\" points=\"403.89,-109.42 393.46,-107.55 400.45,-115.52 403.89,-109.42\"/>\n</g>\n<!-- __main__.Node object at 0x7cbb28325cf0 -->\n<g id=\"node5\" class=\"node\">\n<title>__main__.Node object at 0x7cbb28325cf0</title>\n<ellipse fill=\"none\" stroke=\"black\" cx=\"613.14\" cy=\"-90\" rx=\"111.28\" ry=\"18\"/>\n<text text-anchor=\"middle\" x=\"613.14\" y=\"-86.3\" font-family=\"Times,serif\" font-size=\"14.00\">rider&#45;150.jpg, human, 16.55</text>\n</g>\n<!-- __main__.Node object at 0x7cbb28327550&#45;&gt;__main__.Node object at 0x7cbb28325cf0 -->\n<g id=\"edge4\" class=\"edge\">\n<title>__main__.Node object at 0x7cbb28327550&#45;&gt;__main__.Node object at 0x7cbb28325cf0</title>\n<path fill=\"none\" stroke=\"black\" d=\"M517.45,-144.59C534.56,-135 556.36,-122.8 574.82,-112.46\"/>\n<polygon fill=\"black\" stroke=\"black\" points=\"576.57,-115.49 583.58,-107.55 573.15,-109.38 576.57,-115.49\"/>\n</g>\n<!-- __main__.Node object at 0x7cbb28325420 -->\n<g id=\"node3\" class=\"node\">\n<title>__main__.Node object at 0x7cbb28325420</title>\n<ellipse fill=\"none\" stroke=\"black\" cx=\"111.14\" cy=\"-18\" rx=\"111.28\" ry=\"18\"/>\n<text text-anchor=\"middle\" x=\"111.14\" y=\"-14.3\" font-family=\"Times,serif\" font-size=\"14.00\">bike_001.bmp, bike, 921.65</text>\n</g>\n<!-- __main__.Node object at 0x7cbb28327d60&#45;&gt;__main__.Node object at 0x7cbb28325420 -->\n<g id=\"edge2\" class=\"edge\">\n<title>__main__.Node object at 0x7cbb28327d60&#45;&gt;__main__.Node object at 0x7cbb28325420</title>\n<path fill=\"none\" stroke=\"black\" d=\"M310.49,-74.15C270.74,-63.16 216.43,-48.13 174.54,-36.54\"/>\n<polygon fill=\"black\" stroke=\"black\" points=\"175.29,-33.12 164.72,-33.82 173.42,-39.86 175.29,-33.12\"/>\n</g>\n<!-- __main__.Node object at 0x7cbb28326b90 -->\n<g id=\"node4\" class=\"node\">\n<title>__main__.Node object at 0x7cbb28326b90</title>\n<ellipse fill=\"none\" stroke=\"black\" cx=\"364.14\" cy=\"-18\" rx=\"124.28\" ry=\"18\"/>\n<text text-anchor=\"middle\" x=\"364.14\" y=\"-14.3\" font-family=\"Times,serif\" font-size=\"14.00\">carsgraz_001.bmp, cars, 921.65</text>\n</g>\n<!-- __main__.Node object at 0x7cbb28327d60&#45;&gt;__main__.Node object at 0x7cbb28326b90 -->\n<g id=\"edge3\" class=\"edge\">\n<title>__main__.Node object at 0x7cbb28327d60&#45;&gt;__main__.Node object at 0x7cbb28326b90</title>\n<path fill=\"none\" stroke=\"black\" d=\"M364.14,-71.7C364.14,-63.98 364.14,-54.71 364.14,-46.11\"/>\n<polygon fill=\"black\" stroke=\"black\" points=\"367.64,-46.1 364.14,-36.1 360.64,-46.1 367.64,-46.1\"/>\n</g>\n<!-- __main__.Node object at 0x7cbb28325d20 -->\n<g id=\"node6\" class=\"node\">\n<title>__main__.Node object at 0x7cbb28325d20</title>\n<ellipse fill=\"none\" stroke=\"black\" cx=\"613.14\" cy=\"-18\" rx=\"106.68\" ry=\"18\"/>\n<text text-anchor=\"middle\" x=\"613.14\" y=\"-14.3\" font-family=\"Times,serif\" font-size=\"14.00\">rider&#45;120.jpg, human, 27.4</text>\n</g>\n<!-- __main__.Node object at 0x7cbb28325cf0&#45;&gt;__main__.Node object at 0x7cbb28325d20 -->\n<g id=\"edge5\" class=\"edge\">\n<title>__main__.Node object at 0x7cbb28325cf0&#45;&gt;__main__.Node object at 0x7cbb28325d20</title>\n<path fill=\"none\" stroke=\"black\" d=\"M613.14,-71.7C613.14,-63.98 613.14,-54.71 613.14,-46.11\"/>\n<polygon fill=\"black\" stroke=\"black\" points=\"616.64,-46.1 613.14,-36.1 609.64,-46.1 616.64,-46.1\"/>\n</g>\n<!-- __main__.Node object at 0x7cbb28327d00 -->\n<g id=\"node7\" class=\"node\">\n<title>__main__.Node object at 0x7cbb28327d00</title>\n<ellipse fill=\"none\" stroke=\"black\" cx=\"849.14\" cy=\"-18\" rx=\"111.28\" ry=\"18\"/>\n<text text-anchor=\"middle\" x=\"849.14\" y=\"-14.3\" font-family=\"Times,serif\" font-size=\"14.00\">rider&#45;151.jpg, human, 22.73</text>\n</g>\n<!-- __main__.Node object at 0x7cbb28325cf0&#45;&gt;__main__.Node object at 0x7cbb28327d00 -->\n<g id=\"edge6\" class=\"edge\">\n<title>__main__.Node object at 0x7cbb28325cf0&#45;&gt;__main__.Node object at 0x7cbb28327d00</title>\n<path fill=\"none\" stroke=\"black\" d=\"M664.06,-73.9C700.5,-63.09 749.73,-48.48 788.26,-37.06\"/>\n<polygon fill=\"black\" stroke=\"black\" points=\"789.72,-40.27 798.31,-34.08 787.73,-33.56 789.72,-40.27\"/>\n</g>\n</g>\n</svg>\n",
            "text/plain": [
              "<graphviz.graphs.Digraph at 0x7cbb283258d0>"
            ]
          },
          "metadata": {},
          "execution_count": 26
        }
      ]
    },
    {
      "cell_type": "code",
      "source": [
        "#Buscar nodo\n",
        "nodo = search(Arbol, 'rider-120.jpg')\n",
        "nodo.size"
      ],
      "metadata": {
        "colab": {
          "base_uri": "https://localhost:8080/"
        },
        "id": "_M3Y2FwRxcLj",
        "outputId": "309b3c22-9823-4a33-ec03-3abb90c97224"
      },
      "execution_count": 27,
      "outputs": [
        {
          "output_type": "execute_result",
          "data": {
            "text/plain": [
              "27.4"
            ]
          },
          "metadata": {},
          "execution_count": 27
        }
      ]
    },
    {
      "cell_type": "code",
      "source": [
        "#Nodos con una condición\n",
        "res = search_p(Arbol, 'human', 15, 25)\n",
        "for i in res:\n",
        "  print(i.fileName)"
      ],
      "metadata": {
        "colab": {
          "base_uri": "https://localhost:8080/"
        },
        "id": "ZfftPouvxe8l",
        "outputId": "6e5d74bf-a9e2-47f1-b38f-46718abdfa69"
      },
      "execution_count": 28,
      "outputs": [
        {
          "output_type": "stream",
          "name": "stdout",
          "text": [
            "rider-150.jpg\n",
            "rider-151.jpg\n"
          ]
        }
      ]
    },
    {
      "cell_type": "code",
      "source": [
        "#Recorrido por nivel\n",
        "print_level(Arbol)"
      ],
      "metadata": {
        "colab": {
          "base_uri": "https://localhost:8080/"
        },
        "id": "YMPpGh_zxiDQ",
        "outputId": "e7439b81-2501-4cea-f66d-9cf8d8007d03"
      },
      "execution_count": 29,
      "outputs": [
        {
          "output_type": "stream",
          "name": "stdout",
          "text": [
            "rider-110.jpg\n",
            "bike_002.bmp\n",
            "rider-150.jpg\n",
            "bike_001.bmp\n",
            "carsgraz_001.bmp\n",
            "rider-120.jpg\n",
            "rider-151.jpg\n"
          ]
        }
      ]
    },
    {
      "cell_type": "code",
      "source": [
        "#Nivel del nodo\n",
        "nivelV(Arbol, res[1])"
      ],
      "metadata": {
        "colab": {
          "base_uri": "https://localhost:8080/"
        },
        "id": "_-JHGX1txllb",
        "outputId": "de7dfee4-545f-410d-b481-a1ec0f811eb9"
      },
      "execution_count": 30,
      "outputs": [
        {
          "output_type": "execute_result",
          "data": {
            "text/plain": [
              "2"
            ]
          },
          "metadata": {},
          "execution_count": 30
        }
      ]
    },
    {
      "cell_type": "code",
      "source": [
        "#Factor balanceo\n",
        "equili(Arbol.leftSon)"
      ],
      "metadata": {
        "colab": {
          "base_uri": "https://localhost:8080/"
        },
        "id": "4jeKBcNaxoMR",
        "outputId": "ab420ad2-9d97-44c7-abf7-bf3bf6029718"
      },
      "execution_count": 31,
      "outputs": [
        {
          "output_type": "execute_result",
          "data": {
            "text/plain": [
              "0"
            ]
          },
          "metadata": {},
          "execution_count": 31
        }
      ]
    },
    {
      "cell_type": "code",
      "source": [
        "#Padre del nodo\n",
        "padreN(Arbol, res[1]).fileName"
      ],
      "metadata": {
        "colab": {
          "base_uri": "https://localhost:8080/",
          "height": 35
        },
        "id": "7whI70hbxrsJ",
        "outputId": "7a1b9e9a-2ea0-4cbf-d70c-4d3826496739"
      },
      "execution_count": 32,
      "outputs": [
        {
          "output_type": "execute_result",
          "data": {
            "text/plain": [
              "'rider-150.jpg'"
            ],
            "application/vnd.google.colaboratory.intrinsic+json": {
              "type": "string"
            }
          },
          "metadata": {},
          "execution_count": 32
        }
      ]
    },
    {
      "cell_type": "code",
      "source": [
        "#Encontrar abuelo\n",
        "encontrar_abuelo(Arbol, res[0])"
      ],
      "metadata": {
        "colab": {
          "base_uri": "https://localhost:8080/"
        },
        "id": "6uvsKNUFxxhU",
        "outputId": "e4953a0a-d529-446d-ee90-b9f3b19fa386"
      },
      "execution_count": 33,
      "outputs": [
        {
          "output_type": "stream",
          "name": "stdout",
          "text": [
            "No tiene abuelo\n"
          ]
        }
      ]
    },
    {
      "cell_type": "code",
      "source": [
        "encontrar_abuelo(Arbol, res[1]).fileName"
      ],
      "metadata": {
        "colab": {
          "base_uri": "https://localhost:8080/",
          "height": 35
        },
        "id": "lDkcRzjBx0G0",
        "outputId": "b0a91fcd-d3d1-44bb-b543-7858eb5f6d1d"
      },
      "execution_count": 35,
      "outputs": [
        {
          "output_type": "execute_result",
          "data": {
            "text/plain": [
              "'rider-110.jpg'"
            ],
            "application/vnd.google.colaboratory.intrinsic+json": {
              "type": "string"
            }
          },
          "metadata": {},
          "execution_count": 35
        }
      ]
    },
    {
      "cell_type": "code",
      "source": [
        "#Encontrar tío\n",
        "tio(Arbol, res[0])"
      ],
      "metadata": {
        "colab": {
          "base_uri": "https://localhost:8080/"
        },
        "id": "xKsaxCCIx3G2",
        "outputId": "60892ea3-0b77-469e-b8f4-2132e722b1ae"
      },
      "execution_count": 34,
      "outputs": [
        {
          "output_type": "stream",
          "name": "stdout",
          "text": [
            "No tiene abuelo\n"
          ]
        }
      ]
    },
    {
      "cell_type": "code",
      "source": [
        "tio(Arbol, res[1]).fileName"
      ],
      "metadata": {
        "colab": {
          "base_uri": "https://localhost:8080/",
          "height": 35
        },
        "id": "z4O3pdrhx5Wx",
        "outputId": "e861d4dd-b194-4e7e-f0bd-cc88e2675f01"
      },
      "execution_count": 36,
      "outputs": [
        {
          "output_type": "execute_result",
          "data": {
            "text/plain": [
              "'bike_002.bmp'"
            ],
            "application/vnd.google.colaboratory.intrinsic+json": {
              "type": "string"
            }
          },
          "metadata": {},
          "execution_count": 36
        }
      ]
    }
  ]
}